{
 "cells": [
  {
   "cell_type": "code",
   "execution_count": null,
   "id": "522eba38-5af4-47e2-9058-eb8af7744ce6",
   "metadata": {},
   "outputs": [],
   "source": [
    "# Modeling - training machine learning models"
   ]
  }
 ],
 "metadata": {
  "kernelspec": {
   "display_name": "Python 3 (ipykernel)",
   "language": "python",
   "name": "python3"
  },
  "language_info": {
   "codemirror_mode": {
    "name": "ipython",
    "version": 3
   },
   "file_extension": ".py",
   "mimetype": "text/x-python",
   "name": "python",
   "nbconvert_exporter": "python",
   "pygments_lexer": "ipython3",
   "version": "3.10.12"
  }
 },
 "nbformat": 4,
 "nbformat_minor": 5
}
