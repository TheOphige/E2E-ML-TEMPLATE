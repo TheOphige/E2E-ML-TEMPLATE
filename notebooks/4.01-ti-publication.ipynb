{
 "cells": [
  {
   "cell_type": "code",
   "execution_count": null,
   "id": "7612cbbe-87f8-4395-b91b-c895833cba32",
   "metadata": {},
   "outputs": [],
   "source": [
    "# Publication - Notebooks that get turned directly into reports"
   ]
  },
  {
   "cell_type": "code",
   "execution_count": null,
   "id": "1f230c5e-3769-42d6-aa7d-4d702cc41df7",
   "metadata": {},
   "outputs": [],
   "source": []
  }
 ],
 "metadata": {
  "kernelspec": {
   "display_name": "Python 3 (ipykernel)",
   "language": "python",
   "name": "python3"
  },
  "language_info": {
   "codemirror_mode": {
    "name": "ipython",
    "version": 3
   },
   "file_extension": ".py",
   "mimetype": "text/x-python",
   "name": "python",
   "nbconvert_exporter": "python",
   "pygments_lexer": "ipython3",
   "version": "3.10.12"
  }
 },
 "nbformat": 4,
 "nbformat_minor": 5
}
