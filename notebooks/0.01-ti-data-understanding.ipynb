{
 "cells": [
  {
   "cell_type": "markdown",
   "id": "e3fc135e-7f38-4884-9dda-d9f39f929b5d",
   "metadata": {},
   "source": [
    "# 2.1 Car price prediction project"
   ]
  },
  {
   "cell_type": "code",
   "execution_count": 1,
   "id": "a5acd94a-8ef4-4a3b-888f-abf39a81a14d",
   "metadata": {},
   "outputs": [],
   "source": [
    "%load_ext autoreload\n",
    "%autoreload 2"
   ]
  },
  {
   "cell_type": "markdown",
   "id": "c2c90f9c-467b-4e75-89a9-4e9a4b3dcc60",
   "metadata": {},
   "source": [
    "## Data understanding - often just for exploratory work. get to know your data. meaning of terms, columns. data sources."
   ]
  },
  {
   "cell_type": "code",
   "execution_count": null,
   "id": "32f061ba-5831-4c41-87fb-1431aaf6f79c",
   "metadata": {},
   "outputs": [],
   "source": []
  },
  {
   "cell_type": "code",
   "execution_count": null,
   "id": "cfdee9ff-a2d1-42c0-a2be-6203a6d6758f",
   "metadata": {},
   "outputs": [],
   "source": [
    "from my_project.data import make_dataset\n",
    "\n",
    "data = make_dataset()"
   ]
  },
  {
   "cell_type": "markdown",
   "id": "906c6ead-c313-439a-a3b3-117ac781b6e4",
   "metadata": {},
   "source": [
    "## Project goals"
   ]
  },
  {
   "cell_type": "code",
   "execution_count": null,
   "id": "15a409ca-66e0-4f1f-99df-728ebac03d40",
   "metadata": {},
   "outputs": [],
   "source": []
  },
  {
   "cell_type": "code",
   "execution_count": null,
   "id": "1732c38c-e7b0-4b2e-9ff9-9e1b2bcb78c1",
   "metadata": {},
   "outputs": [],
   "source": []
  }
 ],
 "metadata": {
  "kernelspec": {
   "display_name": "Python 3 (ipykernel)",
   "language": "python",
   "name": "python3"
  },
  "language_info": {
   "codemirror_mode": {
    "name": "ipython",
    "version": 3
   },
   "file_extension": ".py",
   "mimetype": "text/x-python",
   "name": "python",
   "nbconvert_exporter": "python",
   "pygments_lexer": "ipython3",
   "version": "3.10.12"
  }
 },
 "nbformat": 4,
 "nbformat_minor": 5
}
