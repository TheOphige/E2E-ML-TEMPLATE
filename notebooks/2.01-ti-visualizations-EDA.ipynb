{
 "cells": [
  {
   "cell_type": "code",
   "execution_count": null,
   "id": "fc5813b3-fcd4-449f-ba35-3479bb1a4011",
   "metadata": {},
   "outputs": [],
   "source": [
    "# Visualizations - often writes publication-ready viz to reports"
   ]
  }
 ],
 "metadata": {
  "kernelspec": {
   "display_name": "Python 3 (ipykernel)",
   "language": "python",
   "name": "python3"
  },
  "language_info": {
   "codemirror_mode": {
    "name": "ipython",
    "version": 3
   },
   "file_extension": ".py",
   "mimetype": "text/x-python",
   "name": "python",
   "nbconvert_exporter": "python",
   "pygments_lexer": "ipython3",
   "version": "3.10.12"
  }
 },
 "nbformat": 4,
 "nbformat_minor": 5
}
