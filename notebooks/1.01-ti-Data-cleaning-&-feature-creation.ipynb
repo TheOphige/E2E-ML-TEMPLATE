{
 "cells": [
  {
   "cell_type": "code",
   "execution_count": null,
   "id": "ff96301c-4a05-47d4-aeb0-a9f07a1929d3",
   "metadata": {},
   "outputs": [],
   "source": [
    "# Data cleaning and feature creation - often writes data to data/processed or data/interim"
   ]
  }
 ],
 "metadata": {
  "kernelspec": {
   "display_name": "Python 3 (ipykernel)",
   "language": "python",
   "name": "python3"
  },
  "language_info": {
   "codemirror_mode": {
    "name": "ipython",
    "version": 3
   },
   "file_extension": ".py",
   "mimetype": "text/x-python",
   "name": "python",
   "nbconvert_exporter": "python",
   "pygments_lexer": "ipython3",
   "version": "3.10.12"
  }
 },
 "nbformat": 4,
 "nbformat_minor": 5
}
